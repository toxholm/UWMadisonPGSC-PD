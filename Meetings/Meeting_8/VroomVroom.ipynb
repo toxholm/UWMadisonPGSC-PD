{
 "cells": [
  {
   "cell_type": "markdown",
   "metadata": {
    "slideshow": {
     "slide_type": "slide"
    }
   },
   "source": [
    "# Improving Code Efficiency\n",
    "\n",
    "Rob Morgan\n",
    "\n",
    "rmorgan10.github.io"
   ]
  },
  {
   "cell_type": "code",
   "execution_count": 1,
   "metadata": {
    "slideshow": {
     "slide_type": "skip"
    }
   },
   "outputs": [],
   "source": [
    "import matplotlib.pyplot as plt\n",
    "import math\n",
    "import numpy as np\n",
    "import time"
   ]
  },
  {
   "cell_type": "code",
   "execution_count": 2,
   "metadata": {
    "slideshow": {
     "slide_type": "skip"
    }
   },
   "outputs": [],
   "source": [
    "#Uncomment and run if you don't yet have these tools \n",
    "#! pip install line_profiler\n",
    "#! pip install py-heat-magic\n",
    "#! pip install memory_profiler"
   ]
  },
  {
   "cell_type": "code",
   "execution_count": 3,
   "metadata": {
    "slideshow": {
     "slide_type": "skip"
    }
   },
   "outputs": [],
   "source": [
    "%load_ext line_profiler\n",
    "%load_ext heat\n",
    "%load_ext memory_profiler"
   ]
  },
  {
   "cell_type": "markdown",
   "metadata": {
    "slideshow": {
     "slide_type": "subslide"
    }
   },
   "source": [
    "### Outline\n",
    "\n",
    "- Example: What do we mean by efficient?\n",
    "- Algorithm Design\n",
    "- Profiling Code\n",
    "- Writing Efficient Code\n",
    "- Fun Python Quirks"
   ]
  },
  {
   "cell_type": "markdown",
   "metadata": {
    "slideshow": {
     "slide_type": "skip"
    }
   },
   "source": [
    "## Sources\n",
    "\n",
    "All python implementations of list-sorting algorithms are from [The Algorithms](https://github.com/TheAlgorithms/Python)\n",
    "\n",
    "Copyright (c) 2019 The Algorithms\n",
    "\n",
    "All list-sorting gifs are from [Toptal](https://www.toptal.com/developers/sorting-algorithms)\n",
    "\n",
    "The `numba` example is taken from Evan Schneider's talk in the [LSSTC Data Science Fellowship Program](https://github.com/LSSTC-DSFP/LSSTC-DSFP-Sessions/blob/master/Session8/Day4/numba_intro_solutions.ipynb)"
   ]
  },
  {
   "cell_type": "markdown",
   "metadata": {
    "slideshow": {
     "slide_type": "slide"
    }
   },
   "source": [
    "# Example\n",
    "\n",
    "### Sorting a list of numbers\n",
    "\n",
    "Believe it or not, there are dozens of different ways to sort a list of numbers. We'll look at three and compare their efficiencies."
   ]
  },
  {
   "cell_type": "markdown",
   "metadata": {
    "slideshow": {
     "slide_type": "subslide"
    }
   },
   "source": [
    "### Our Sorting Algorithms\n",
    "\n",
    "- Insertion Sort (the simple one)\n",
    "- Bubble Sort (the cute one)\n",
    "- Merge Sort (the smart one)"
   ]
  },
  {
   "cell_type": "code",
   "execution_count": 4,
   "metadata": {
    "slideshow": {
     "slide_type": "skip"
    }
   },
   "outputs": [],
   "source": [
    "def insertion_sort(collection):\n",
    "    \"\"\"Pure implementation of the insertion sort algorithm in Python\n",
    "    :param collection: some mutable ordered collection with heterogeneous\n",
    "    comparable items inside\n",
    "    :return: the same collection ordered by ascending\n",
    "    Examples:\n",
    "    >>> insertion_sort([0, 5, 3, 2, 2])\n",
    "    [0, 2, 2, 3, 5]\n",
    "    >>> insertion_sort([])\n",
    "    []\n",
    "    >>> insertion_sort([-2, -5, -45])\n",
    "    [-45, -5, -2]\n",
    "    \"\"\"\n",
    "    \n",
    "    collection_ = collection.copy()\n",
    "\n",
    "    for loop_index in range(1, len(collection_)):\n",
    "        insertion_index = loop_index\n",
    "        while (\n",
    "            insertion_index > 0\n",
    "            and collection_[insertion_index - 1] > collection_[insertion_index]\n",
    "        ):\n",
    "            collection_[insertion_index], collection_[insertion_index - 1] = (\n",
    "                collection_[insertion_index - 1],\n",
    "                collection_[insertion_index],\n",
    "            )\n",
    "            insertion_index -= 1\n",
    "\n",
    "    return collection_"
   ]
  },
  {
   "cell_type": "markdown",
   "metadata": {
    "slideshow": {
     "slide_type": "subslide"
    }
   },
   "source": [
    "### Insertion Sort\n",
    "\n",
    "The simple one.\n",
    "\n",
    "1. Start by iterating through an unsorted list\n",
    "1. For each element, \n",
    "    1. traverse the list backwards until you find a smaller number\n",
    "    1. Put the element right after the found smaller number\n",
    "1. Once you finish the iteration, the list will be sorted"
   ]
  },
  {
   "cell_type": "markdown",
   "metadata": {
    "slideshow": {
     "slide_type": "fragment"
    }
   },
   "source": [
    "![Insertionsort](https://bs-uploads.toptal.io/blackfish-uploads/sorting_algorithms_page/content/illustration/animated_image_file/animated_image/27771/insertion-sort-e8e40865ca8316a75a00ae32347acffb.gif \"insertion\")"
   ]
  },
  {
   "cell_type": "code",
   "execution_count": 5,
   "metadata": {
    "slideshow": {
     "slide_type": "skip"
    }
   },
   "outputs": [],
   "source": [
    "def bubble_sort(collection):\n",
    "    \"\"\"Pure implementation of bubble sort algorithm in Python\n",
    "    :param collection: some mutable ordered collection with heterogeneous\n",
    "    comparable items inside\n",
    "    :return: the same collection ordered by ascending\n",
    "    Examples:\n",
    "    >>> bubble_sort([0, 5, 2, 3, 2])\n",
    "    [0, 2, 2, 3, 5]\n",
    "    >>> bubble_sort([])\n",
    "    []\n",
    "    >>> bubble_sort([-2, -45, -5])\n",
    "    [-45, -5, -2]\n",
    "    >>> bubble_sort([-23, 0, 6, -4, 34])\n",
    "    [-23, -4, 0, 6, 34]\n",
    "    >>> bubble_sort([-23, 0, 6, -4, 34]) == sorted([-23, 0, 6, -4, 34])\n",
    "    True\n",
    "    \"\"\"\n",
    "    collection_ = collection.copy()\n",
    "    \n",
    "    length = len(collection_)\n",
    "    for i in range(length - 1):\n",
    "        swapped = False\n",
    "        for j in range(length - 1 - i):\n",
    "            if collection_[j] > collection_[j + 1]:\n",
    "                swapped = True\n",
    "                collection_[j], collection_[j + 1] = collection_[j + 1], collection_[j]\n",
    "        if not swapped:\n",
    "            break  # Stop iteration if the collection is sorted.\n",
    "            \n",
    "    return collection\n",
    "    "
   ]
  },
  {
   "cell_type": "markdown",
   "metadata": {
    "slideshow": {
     "slide_type": "subslide"
    }
   },
   "source": [
    "### Bubble Sort\n",
    "\n",
    "The cute one.\n",
    "\n",
    "1. Iterate through the unsorted list backwards and track the smallest element\n",
    "1. Place this as the first element\n",
    "1. Repeat step 1\n",
    "1. Place the result as the second element\n",
    "1. ..."
   ]
  },
  {
   "cell_type": "markdown",
   "metadata": {
    "slideshow": {
     "slide_type": "fragment"
    }
   },
   "source": [
    "![bubblesort](https://bs-uploads.toptal.io/blackfish-uploads/sorting_algorithms_page/content/illustration/animated_image_file/animated_image/27835/bubble-sort-295a6abfc3ca865791b985101ed9358f.gif \"bubble\")"
   ]
  },
  {
   "cell_type": "code",
   "execution_count": 6,
   "metadata": {
    "slideshow": {
     "slide_type": "skip"
    }
   },
   "outputs": [],
   "source": [
    "def merge_sort(collection):\n",
    "    \"\"\"Pure implementation of the merge sort algorithm in Python\n",
    "    :param collection: some mutable ordered collection with heterogeneous\n",
    "    comparable items inside\n",
    "    :return: the same collection ordered by ascending\n",
    "    Examples:\n",
    "    >>> merge_sort([0, 5, 3, 2, 2])\n",
    "    [0, 2, 2, 3, 5]\n",
    "    >>> merge_sort([])\n",
    "    []\n",
    "    >>> merge_sort([-2, -5, -45])\n",
    "    [-45, -5, -2]\n",
    "    \"\"\"\n",
    "    \n",
    "    def merge(left, right):\n",
    "        \"\"\"merge left and right\n",
    "        :param left: left collection\n",
    "        :param right: right collection\n",
    "        :return: merge result\n",
    "        \"\"\"\n",
    "        result = []\n",
    "        while left and right:\n",
    "            result.append((left if left[0] <= right[0] else right).pop(0))\n",
    "        return result + left + right\n",
    "\n",
    "    if len(collection) <= 1:\n",
    "        return collection\n",
    "    mid = len(collection) // 2\n",
    "    return merge(merge_sort(collection[:mid]), merge_sort(collection[mid:]))"
   ]
  },
  {
   "cell_type": "markdown",
   "metadata": {
    "slideshow": {
     "slide_type": "subslide"
    }
   },
   "source": [
    "### Merge Sort\n",
    "\n",
    "The smart one.\n",
    "\n",
    "1. Split an unsorted list in half\n",
    "1. For each half, split in half again and repeat this process\n",
    "1. Then, to merge two adjacent halves, iterate through them simultaneously and place the elements in order"
   ]
  },
  {
   "cell_type": "markdown",
   "metadata": {
    "slideshow": {
     "slide_type": "fragment"
    }
   },
   "source": [
    "![mergesort](https://bs-uploads.toptal.io/blackfish-uploads/sorting_algorithms_page/content/illustration/animated_image_file/animated_image/27899/merge-sort-eefc491a721d7d3b47f26bdf687907af.gif \"mergesort\")"
   ]
  },
  {
   "cell_type": "markdown",
   "metadata": {
    "slideshow": {
     "slide_type": "subslide"
    }
   },
   "source": [
    "## Sorting Algorithms, Start Your Engines!"
   ]
  },
  {
   "cell_type": "code",
   "execution_count": 7,
   "metadata": {
    "slideshow": {
     "slide_type": "fragment"
    }
   },
   "outputs": [],
   "source": [
    "data = list(np.random.uniform(1, 10000, size=50000).astype(int))"
   ]
  },
  {
   "cell_type": "code",
   "execution_count": 8,
   "metadata": {
    "slideshow": {
     "slide_type": "fragment"
    }
   },
   "outputs": [
    {
     "name": "stdout",
     "output_type": "stream",
     "text": [
      "396 ms ± 42.5 ms per loop (mean ± std. dev. of 7 runs, 1 loop each)\n"
     ]
    }
   ],
   "source": [
    "%%timeit\n",
    "sorted_data = merge_sort(data)"
   ]
  },
  {
   "cell_type": "code",
   "execution_count": 9,
   "metadata": {
    "slideshow": {
     "slide_type": "skip"
    }
   },
   "outputs": [],
   "source": [
    "del data\n",
    "data = list(np.random.uniform(1, 10000, size=50000).astype(int))"
   ]
  },
  {
   "cell_type": "code",
   "execution_count": 10,
   "metadata": {
    "slideshow": {
     "slide_type": "fragment"
    }
   },
   "outputs": [
    {
     "name": "stdout",
     "output_type": "stream",
     "text": [
      "3min 51s ± 0 ns per loop (mean ± std. dev. of 1 run, 1 loop each)\n"
     ]
    }
   ],
   "source": [
    "%%timeit -r 1\n",
    "sorted_data = bubble_sort(data)"
   ]
  },
  {
   "cell_type": "code",
   "execution_count": 11,
   "metadata": {
    "slideshow": {
     "slide_type": "skip"
    }
   },
   "outputs": [],
   "source": [
    "del data\n",
    "data = list(np.random.uniform(1, 10000, size=50000).astype(int))"
   ]
  },
  {
   "cell_type": "code",
   "execution_count": 12,
   "metadata": {
    "slideshow": {
     "slide_type": "fragment"
    }
   },
   "outputs": [
    {
     "name": "stdout",
     "output_type": "stream",
     "text": [
      "3min 5s ± 0 ns per loop (mean ± std. dev. of 1 run, 1 loop each)\n"
     ]
    }
   ],
   "source": [
    "%%timeit -r 1\n",
    "sorted_data = insertion_sort(data)"
   ]
  },
  {
   "cell_type": "markdown",
   "metadata": {
    "slideshow": {
     "slide_type": "skip"
    }
   },
   "source": [
    "If you're looking at this notebook not as a fancy slideshow, you're probably like \"Hey Rob, why do you have these cells?\"\n",
    "\n",
    "```python\n",
    "del data\n",
    "data = list(np.random.uniform(1, 10000, size=50000).astype(int))\n",
    "```\n",
    "\"... seems kinda whack, my guy.\"\n",
    "\n",
    "So here's what's up. The functions that do the actual sorting interchange elements in the lists, but the list is still at the same place in memory after each function is applied. This means that the list will be already sorted when the next sorting function sees it, and in that case the functions finish much faster than expected because they have no work to do.\n",
    "\n",
    "There are also some `.copy()` statements withing the functions and dummy variables like `collection_`. Probably one of these methods would suffice, but I was really frustrated trying to diagnose the issue so we're just going with all of them."
   ]
  },
  {
   "cell_type": "markdown",
   "metadata": {
    "slideshow": {
     "slide_type": "subslide"
    }
   },
   "source": [
    "## Why so different?\n",
    "\n",
    "The three algorithms do the same thing to the same data, so what makes one faster than the other?\n",
    "\n",
    "To answer this, let's look at the runtime _as a function of the dataset size_. "
   ]
  },
  {
   "cell_type": "code",
   "execution_count": 13,
   "metadata": {
    "slideshow": {
     "slide_type": "subslide"
    }
   },
   "outputs": [],
   "source": [
    "runtimes = {'MERGE': [], 'BUBBLE': [], 'INSERTION': [], 'SIZE': []}\n",
    "\n",
    "for dataset_size in [10, 100, 1000, 10000]:\n",
    "    runtimes['SIZE'].append(dataset_size)\n",
    "    data = list(np.random.uniform(1, 10000, size=dataset_size).astype(int))\n",
    "    \n",
    "    # Run and time insertion-sort\n",
    "    start = time.time()\n",
    "    sorted_data = insertion_sort(data.copy())\n",
    "    end = time.time()\n",
    "    runtimes['INSERTION'].append(end - start)\n",
    "    \n",
    "    # Run and time bubble-sort\n",
    "    start = time.time()\n",
    "    sorted_data = bubble_sort(data.copy())\n",
    "    end = time.time()\n",
    "    runtimes['BUBBLE'].append(end - start)\n",
    "    \n",
    "    # Run and time merge-sort\n",
    "    start = time.time()\n",
    "    sorted_data = merge_sort(data.copy())\n",
    "    end = time.time()\n",
    "    runtimes['MERGE'].append(end - start)"
   ]
  },
  {
   "cell_type": "code",
   "execution_count": 14,
   "metadata": {
    "slideshow": {
     "slide_type": "skip"
    }
   },
   "outputs": [],
   "source": [
    "def plot_runtimes(runtimes, annotate=False):\n",
    "    \n",
    "    plt.figure(figsize=(6,5))\n",
    "    \n",
    "    plt.plot(runtimes['SIZE'], runtimes['INSERTION'], label='Insertion Sort', lw=3, c='#8da0cb')\n",
    "    plt.plot(runtimes['SIZE'], runtimes['BUBBLE'], label='Bubble Sort', lw=3, c='#fc8d62')\n",
    "    plt.plot(runtimes['SIZE'], runtimes['MERGE'], label='Merge Sort', lw=3, c='#66c2a5')\n",
    "    \n",
    "    if annotate:\n",
    "        plt.plot(runtimes['SIZE'],\n",
    "                 np.array(runtimes['SIZE']) ** 2 * runtimes['MERGE'][0] / 400,\n",
    "                 ls='--', lw=2, c='black')\n",
    "        plt.text(2000, 10, r'$O(n^2)$', fontsize=14)\n",
    "        plt.plot(runtimes['SIZE'],\n",
    "                 np.array(runtimes['SIZE']) * np.log10(np.array(runtimes['SIZE'])) * runtimes['MERGE'][0] / 100,\n",
    "                 ls='--', lw=2, c='black')\n",
    "        plt.text(2000, 2.e-3, r'$O(n\\log n)$', fontsize=14)\n",
    "        plt.plot(runtimes['SIZE'],\n",
    "                 np.array(runtimes['SIZE']) * runtimes['MERGE'][0] / 400,\n",
    "                 ls='--', lw=2, c='black')\n",
    "        plt.text(2000, 1.e-4, r'$O(n)$', fontsize=14)\n",
    "    \n",
    "    plt.xlabel(\"Dataset Size\", fontsize=16)\n",
    "    plt.ylabel(\"Runtime [sec]\", fontsize=16)\n",
    "    plt.xticks(fontsize=14)\n",
    "    plt.yticks(fontsize=14)\n",
    "    plt.xscale('log')\n",
    "    plt.yscale('log')\n",
    "    plt.ylim(1.e-6, 100)\n",
    "    \n",
    "    plt.legend(loc='upper left', frameon=False, fontsize=14)\n",
    "    \n",
    "    plt.show()"
   ]
  },
  {
   "cell_type": "code",
   "execution_count": 15,
   "metadata": {
    "slideshow": {
     "slide_type": "subslide"
    }
   },
   "outputs": [
    {
     "data": {
      "image/png": "[encoded data removed]",
      "text/plain": [
       "<Figure size 432x360 with 1 Axes>"
      ]
     },
     "metadata": {
      "needs_background": "light"
     },
     "output_type": "display_data"
    }
   ],
   "source": [
    "plot_runtimes(runtimes)"
   ]
  },
  {
   "cell_type": "markdown",
   "metadata": {
    "slideshow": {
     "slide_type": "subslide"
    }
   },
   "source": [
    "## Computer Science Time\n",
    "\n",
    "In computer science lingo, people use \"Big O\" notation to characterize the asymptotic behavior of an algorithm's efficiency."
   ]
  },
  {
   "cell_type": "markdown",
   "metadata": {
    "slideshow": {
     "slide_type": "fragment"
    }
   },
   "source": [
    "As an example, let's revisit the bubble sort algorithm:\n",
    "\n",
    "1. Iterate through the unsorted list backwards and track the smallest element\n",
    "1. Place this as the first element\n",
    "1. Repeat step 1\n",
    "1. Place the result as the second element\n",
    "1. ..."
   ]
  },
  {
   "cell_type": "markdown",
   "metadata": {
    "slideshow": {
     "slide_type": "fragment"
    }
   },
   "source": [
    "This is $\\mathcal{O}(n^2)$ asymptotic behavior.\n",
    "\n",
    "- It has to consider each of the $n$ elements, and for each element it has to compare to at most $n-1$ other elements.\n",
    "- $n$ $\\times$ $(n-1)$ = $n^2 - n$ $\\sim{n^2}$ for large $n$"
   ]
  },
  {
   "cell_type": "code",
   "execution_count": 16,
   "metadata": {
    "slideshow": {
     "slide_type": "subslide"
    }
   },
   "outputs": [
    {
     "data": {
      "image/png": "[encoded data removed]",
      "text/plain": [
       "<Figure size 432x360 with 1 Axes>"
      ]
     },
     "metadata": {
      "needs_background": "light"
     },
     "output_type": "display_data"
    }
   ],
   "source": [
    "plot_runtimes(runtimes, annotate=True)"
   ]
  },
  {
   "cell_type": "markdown",
   "metadata": {
    "slideshow": {
     "slide_type": "subslide"
    }
   },
   "source": [
    "Can you think of a way to sort a list that might be $\\mathcal{O}(n)$?"
   ]
  },
  {
   "cell_type": "markdown",
   "metadata": {
    "slideshow": {
     "slide_type": "fragment"
    }
   },
   "source": [
    "![](https://i.redd.it/nklehjyn07c41.jpg)"
   ]
  },
  {
   "cell_type": "markdown",
   "metadata": {
    "slideshow": {
     "slide_type": "subslide"
    }
   },
   "source": [
    "What about a sorting algorithm that's as slow as possible?"
   ]
  },
  {
   "cell_type": "markdown",
   "metadata": {
    "slideshow": {
     "slide_type": "fragment"
    }
   },
   "source": [
    "![](https://pics.me.me/from-random-import-shuffle-def-sort-1ist-while-not-is-sorted-list-62967667.png)"
   ]
  },
  {
   "cell_type": "markdown",
   "metadata": {
    "slideshow": {
     "slide_type": "subslide"
    }
   },
   "source": [
    "## Summary\n",
    "\n",
    "In your research, the number of times you will have to design an algorithm to sort a list will hopefully be zero. So why spend time talking about it?"
   ]
  },
  {
   "cell_type": "markdown",
   "metadata": {
    "slideshow": {
     "slide_type": "fragment"
    }
   },
   "source": [
    "The most common reason code runs slowly:\n",
    "- **Algorithmically** the code is inefficient\n",
    "\n",
    "In the remainder of this talk, I'll show lots of little tricks for speeding up `python` code, but overall the biggest factor in the efficiency of the code is the algorithmic design. "
   ]
  },
  {
   "cell_type": "markdown",
   "metadata": {
    "slideshow": {
     "slide_type": "slide"
    }
   },
   "source": [
    "# Profiling Code\n",
    "\n",
    "Let's take a look at how you can spot parts of your code that could use some TLC."
   ]
  },
  {
   "cell_type": "markdown",
   "metadata": {
    "slideshow": {
     "slide_type": "subslide"
    }
   },
   "source": [
    "Let's say you have a function that for an input list returns the sum of the smallest n elements as the nth element in a new list."
   ]
  },
  {
   "cell_type": "code",
   "execution_count": 17,
   "metadata": {
    "slideshow": {
     "slide_type": "fragment"
    }
   },
   "outputs": [],
   "source": [
    "def get_n_smallest(list_, n):\n",
    "    return sorted(list_)[0:n]"
   ]
  },
  {
   "cell_type": "code",
   "execution_count": 18,
   "metadata": {
    "slideshow": {
     "slide_type": "fragment"
    }
   },
   "outputs": [],
   "source": [
    "def get_sum(list_):\n",
    "    sum_ = 0\n",
    "    for element in list_:\n",
    "        sum_ += element\n",
    "    return sum_"
   ]
  },
  {
   "cell_type": "code",
   "execution_count": 19,
   "metadata": {
    "slideshow": {
     "slide_type": "fragment"
    }
   },
   "outputs": [],
   "source": [
    "def function(list_, return_output=False):\n",
    "    output_list = []\n",
    "    \n",
    "    for n in range(len(list_)):\n",
    "        smallest_n = get_n_smallest(list_, n)\n",
    "        sum_smallest_n = get_sum(smallest_n)\n",
    "        output_list.append(sum_smallest_n)\n",
    "\n",
    "    if return_output:\n",
    "        return output_list"
   ]
  },
  {
   "cell_type": "markdown",
   "metadata": {
    "slideshow": {
     "slide_type": "subslide"
    }
   },
   "source": [
    "### Profiling Practice\n",
    "\n",
    "Let's generate some dummy data to run this function on"
   ]
  },
  {
   "cell_type": "code",
   "execution_count": 20,
   "metadata": {
    "slideshow": {
     "slide_type": "fragment"
    }
   },
   "outputs": [],
   "source": [
    "list_1 = list(np.random.uniform(1, 1000, size=500))"
   ]
  },
  {
   "cell_type": "markdown",
   "metadata": {
    "slideshow": {
     "slide_type": "fragment"
    }
   },
   "source": [
    "and try to spot the bottlenecks in this code when running on the list."
   ]
  },
  {
   "cell_type": "markdown",
   "metadata": {
    "slideshow": {
     "slide_type": "subslide"
    }
   },
   "source": [
    "## Tools for spotting algorithmic inefficiencies\n",
    "\n",
    "Profilers are your best friends.\n",
    "\n",
    "- `%time`\n",
    "- `%timeit`\n",
    "- `%prun`\n",
    "- `%lprun`\n",
    "- `%%heat`\n",
    "- `%memit`\n",
    "- `%mprun`\n",
    "\n",
    "There are certainly more, but these are dippity dope."
   ]
  },
  {
   "cell_type": "markdown",
   "metadata": {
    "slideshow": {
     "slide_type": "subslide"
    }
   },
   "source": [
    "### Runtime profilers"
   ]
  },
  {
   "cell_type": "code",
   "execution_count": 21,
   "metadata": {
    "slideshow": {
     "slide_type": "fragment"
    }
   },
   "outputs": [
    {
     "name": "stdout",
     "output_type": "stream",
     "text": [
      "62.7 ms ± 285 µs per loop (mean ± std. dev. of 7 runs, 10 loops each)\n"
     ]
    }
   ],
   "source": [
    "%timeit function(list_1)"
   ]
  },
  {
   "cell_type": "code",
   "execution_count": 22,
   "metadata": {
    "slideshow": {
     "slide_type": "fragment"
    }
   },
   "outputs": [
    {
     "name": "stdout",
     "output_type": "stream",
     "text": [
      "CPU times: user 68.2 ms, sys: 1.65 ms, total: 69.8 ms\n",
      "Wall time: 70.4 ms\n"
     ]
    }
   ],
   "source": [
    "%time function(list_1)"
   ]
  },
  {
   "cell_type": "markdown",
   "metadata": {
    "slideshow": {
     "slide_type": "subslide"
    }
   },
   "source": [
    "### Functional profilers"
   ]
  },
  {
   "cell_type": "code",
   "execution_count": 23,
   "metadata": {
    "slideshow": {
     "slide_type": "fragment"
    }
   },
   "outputs": [
    {
     "name": "stdout",
     "output_type": "stream",
     "text": [
      " "
     ]
    }
   ],
   "source": [
    "%prun function(list_1)"
   ]
  },
  {
   "cell_type": "markdown",
   "metadata": {
    "slideshow": {
     "slide_type": "fragment"
    }
   },
   "source": [
    "![](prun_output.png)"
   ]
  },
  {
   "cell_type": "markdown",
   "metadata": {
    "slideshow": {
     "slide_type": "subslide"
    }
   },
   "source": [
    "### Memory Profilers"
   ]
  },
  {
   "cell_type": "code",
   "execution_count": 24,
   "metadata": {
    "slideshow": {
     "slide_type": "fragment"
    }
   },
   "outputs": [
    {
     "name": "stdout",
     "output_type": "stream",
     "text": [
      "peak memory: 89.77 MiB, increment: 0.03 MiB\n"
     ]
    }
   ],
   "source": [
    "%memit function(list_1)"
   ]
  },
  {
   "cell_type": "markdown",
   "metadata": {
    "slideshow": {
     "slide_type": "subslide"
    }
   },
   "source": [
    "Next up is `%mprun`\n",
    "\n",
    "`%mprun` works on a file, not a cell, so we have to make a dummy script real quick."
   ]
  },
  {
   "cell_type": "code",
   "execution_count": 25,
   "metadata": {
    "slideshow": {
     "slide_type": "fragment"
    }
   },
   "outputs": [
    {
     "name": "stdout",
     "output_type": "stream",
     "text": [
      "Overwriting mprun_demo.py\n"
     ]
    }
   ],
   "source": [
    "%%file mprun_demo.py\n",
    "\n",
    "import numpy as np\n",
    "\n",
    "list_1 = list(np.random.uniform(1, 1000, size=500))\n",
    "\n",
    "def get_n_smallest(list_, n):\n",
    "    return sorted(list_)[0:n]\n",
    "\n",
    "def get_sum(list_):\n",
    "    sum = 0\n",
    "    for element in list_:\n",
    "        sum += element\n",
    "    return sum\n",
    "\n",
    "def function(list_):\n",
    "    output_list = []\n",
    "\n",
    "    for n, element in enumerate(list_):\n",
    "        smallest_n = get_n_smallest(list_, n)\n",
    "        sum_smallest_n = get_sum(smallest_n)\n",
    "        output_list.append(sum_smallest_n)"
   ]
  },
  {
   "cell_type": "code",
   "execution_count": 26,
   "metadata": {
    "slideshow": {
     "slide_type": "subslide"
    }
   },
   "outputs": [
    {
     "name": "stdout",
     "output_type": "stream",
     "text": [
      "\n"
     ]
    }
   ],
   "source": [
    "from mprun_demo import function as demo_function\n",
    "%mprun -f demo_function demo_function(list_1)"
   ]
  },
  {
   "cell_type": "markdown",
   "metadata": {
    "slideshow": {
     "slide_type": "fragment"
    }
   },
   "source": [
    "![](mprun_output.png)"
   ]
  },
  {
   "cell_type": "markdown",
   "metadata": {
    "slideshow": {
     "slide_type": "subslide"
    }
   },
   "source": [
    "### Line Profilers"
   ]
  },
  {
   "cell_type": "code",
   "execution_count": 27,
   "metadata": {
    "slideshow": {
     "slide_type": "fragment"
    }
   },
   "outputs": [],
   "source": [
    "%lprun -f function function(list_1)"
   ]
  },
  {
   "cell_type": "markdown",
   "metadata": {
    "slideshow": {
     "slide_type": "fragment"
    }
   },
   "source": [
    "![](lprun_output.png)"
   ]
  },
  {
   "cell_type": "markdown",
   "metadata": {
    "slideshow": {
     "slide_type": "subslide"
    }
   },
   "source": [
    "### Fancy Line Profilers\n",
    "\n",
    "```python\n",
    "%%heat \n",
    "import numpy as np\n",
    "\n",
    "list_1 = list(np.random.uniform(1, 1000, size=500))\n",
    "\n",
    "def get_n_smallest(list_, n):\n",
    "    return sorted(list_)[0:n]\n",
    "\n",
    "def get_sum(list_):\n",
    "    sum = 0\n",
    "    for element in list_:\n",
    "        sum += element\n",
    "    return sum\n",
    "\n",
    "def function(list_):\n",
    "    output_list = []\n",
    "\n",
    "    for n, element in enumerate(list_):\n",
    "        smallest_n = get_n_smallest(list_, n)\n",
    "        sum_smallest_n = get_sum(smallest_n)\n",
    "        output_list.append(sum_smallest_n)\n",
    "    \n",
    "function(list_1)\n",
    "```"
   ]
  },
  {
   "cell_type": "markdown",
   "metadata": {
    "slideshow": {
     "slide_type": "subslide"
    }
   },
   "source": [
    "![](heatdemo.png)"
   ]
  },
  {
   "cell_type": "code",
   "execution_count": 28,
   "metadata": {
    "slideshow": {
     "slide_type": "skip"
    }
   },
   "outputs": [
    {
     "data": {
      "image/png": "[encoded data removed]",
      "text/plain": [
       "<Figure size 477x528 with 2 Axes>"
      ]
     },
     "metadata": {
      "needs_background": "light"
     },
     "output_type": "display_data"
    }
   ],
   "source": [
    "%%heat \n",
    "import numpy as np\n",
    "\n",
    "list_1 = list(np.random.uniform(1, 1000, size=500))\n",
    "\n",
    "def get_n_smallest(list_, n):\n",
    "    return sorted(list_)[0:n]\n",
    "\n",
    "def get_sum(list_):\n",
    "    sum = 0\n",
    "    for element in list_:\n",
    "        sum += element\n",
    "    return sum\n",
    "\n",
    "def function(list_):\n",
    "    output_list = []\n",
    "\n",
    "    for n, element in enumerate(list_):\n",
    "        smallest_n = get_n_smallest(list_, n)\n",
    "        sum_smallest_n = get_sum(smallest_n)\n",
    "        output_list.append(sum_smallest_n)\n",
    "    \n",
    "function(list_1)"
   ]
  },
  {
   "cell_type": "markdown",
   "metadata": {
    "slideshow": {
     "slide_type": "subslide"
    }
   },
   "source": [
    "## Profiling Summary\n",
    "\n",
    "If your code feels slow, **profiling should be your first step.**\n",
    "\n",
    "Built-in profilers like `%time`, `%timeit`, `%prun`, `%lprun`, `%%heat`, `%memit`, and `%mprun` can diagnose where your code is spending the most time and energy. \n",
    "\n",
    "Re-designing the code to make these areas more algorithmically efficient is the best way to improve your code."
   ]
  },
  {
   "cell_type": "markdown",
   "metadata": {
    "slideshow": {
     "slide_type": "slide"
    }
   },
   "source": [
    "# How to Actually Write Algorithmically Efficient Code in Python"
   ]
  },
  {
   "cell_type": "markdown",
   "metadata": {
    "slideshow": {
     "slide_type": "fragment"
    }
   },
   "source": [
    "So far we've defined algorithmic efficiency and looked at tools for diagnosing inefficiency."
   ]
  },
  {
   "cell_type": "markdown",
   "metadata": {
    "slideshow": {
     "slide_type": "fragment"
    }
   },
   "source": [
    "Let's take a look at how one might use these tools to make their code more efficient."
   ]
  },
  {
   "cell_type": "markdown",
   "metadata": {
    "slideshow": {
     "slide_type": "subslide"
    }
   },
   "source": [
    "### We'll cover three main techniques\n",
    "\n",
    "1. Vectorization\n",
    "1. Parallelization\n",
    "1. Compilation"
   ]
  },
  {
   "cell_type": "markdown",
   "metadata": {
    "slideshow": {
     "slide_type": "subslide"
    }
   },
   "source": [
    "## Vectorization\n",
    "\n",
    "When you are trying to perform an operation on every element in an array, there are ways to speed up this repeditive calculation.\n",
    "\n",
    "Enter `numpy`."
   ]
  },
  {
   "cell_type": "markdown",
   "metadata": {
    "slideshow": {
     "slide_type": "subslide"
    }
   },
   "source": [
    "### Example\n",
    "\n",
    "Let's say we want to add 6 to every element in a list of 1,000,000 elements."
   ]
  },
  {
   "cell_type": "code",
   "execution_count": 29,
   "metadata": {
    "slideshow": {
     "slide_type": "fragment"
    }
   },
   "outputs": [],
   "source": [
    "data = np.random.uniform(1, 10000, size=1000000)"
   ]
  },
  {
   "cell_type": "code",
   "execution_count": 30,
   "metadata": {
    "slideshow": {
     "slide_type": "fragment"
    }
   },
   "outputs": [
    {
     "name": "stdout",
     "output_type": "stream",
     "text": [
      "294 ms ± 4.98 ms per loop (mean ± std. dev. of 7 runs, 1 loop each)\n"
     ]
    }
   ],
   "source": [
    "%%timeit\n",
    "data_plus_6 = []\n",
    "for x in data:\n",
    "    data_plus_6.append(x + 6)"
   ]
  },
  {
   "cell_type": "code",
   "execution_count": 31,
   "metadata": {
    "slideshow": {
     "slide_type": "fragment"
    }
   },
   "outputs": [
    {
     "name": "stdout",
     "output_type": "stream",
     "text": [
      "271 ms ± 4.17 ms per loop (mean ± std. dev. of 7 runs, 1 loop each)\n"
     ]
    }
   ],
   "source": [
    "%timeit [x + 6 for x in data]"
   ]
  },
  {
   "cell_type": "code",
   "execution_count": 32,
   "metadata": {
    "slideshow": {
     "slide_type": "fragment"
    }
   },
   "outputs": [
    {
     "name": "stdout",
     "output_type": "stream",
     "text": [
      "541 µs ± 39.3 µs per loop (mean ± std. dev. of 7 runs, 1000 loops each)\n"
     ]
    }
   ],
   "source": [
    "%timeit data + 6"
   ]
  },
  {
   "cell_type": "markdown",
   "metadata": {
    "slideshow": {
     "slide_type": "subslide"
    }
   },
   "source": [
    "### Numpy\n",
    "\n",
    "A very common `python` package for numerical computations.\n",
    "\n",
    "The underlying data structure of `numpy` is an `array` which can have arbitrarily many dimensions. A `numpy.array` will apply operations to all of it's elements simultaneosly. \n",
    "\n",
    "Thus, if you can replace a `for` loop in your code with an array, you are going from $\\mathcal{O}(n)$ to $\\mathcal{O}(1)$.\n",
    "\n",
    "Often, scientific codes can be much improved with this simple change."
   ]
  },
  {
   "cell_type": "markdown",
   "metadata": {
    "slideshow": {
     "slide_type": "subslide"
    }
   },
   "source": [
    "### Most Common Numpy Functions\n",
    "\n",
    "`numpy.where()`\n",
    "- Apply a logical condition to every element in an array simultaneously\n",
    "\n",
    "`numpy.linspace()`, `numpy.logspace()`, and `numpy.arange()`\n",
    "- Create an array of numbers by specifying a minimum and maximum\n",
    "\n",
    "`np.random`\n",
    "- A library of probability distributions that you can sample from at $\\mathcal{O}(1)$\n",
    "\n",
    "The `axis` argument in `numpy` functions\n",
    "- Allows you to specify which dimension of the array you operate on"
   ]
  },
  {
   "cell_type": "markdown",
   "metadata": {
    "slideshow": {
     "slide_type": "subslide"
    }
   },
   "source": [
    "Let's do an example with a calculation along different axes, because it really is that important."
   ]
  },
  {
   "cell_type": "code",
   "execution_count": 33,
   "metadata": {
    "slideshow": {
     "slide_type": "fragment"
    }
   },
   "outputs": [
    {
     "name": "stdout",
     "output_type": "stream",
     "text": [
      "[[ 1  2  3  4]\n",
      " [ 5  6  7  8]\n",
      " [ 9 10 11 12]]\n",
      "\n",
      "Sum along all rows\n",
      "[10 26 42]\n",
      "\n",
      "Get the 90th percentile cutoff across all columns\n",
      "[ 8.2  9.2 10.2 11.2]\n",
      "\n",
      "For all rows and all columns, find the median\n",
      "6.5\n"
     ]
    }
   ],
   "source": [
    "arr = np.array([[1,2,3,4], [5,6,7,8], [9,10,11,12]])\n",
    "print(arr)\n",
    "\n",
    "print(\"\\nSum along all rows\")\n",
    "print(np.sum(arr, axis=1))\n",
    "\n",
    "print(\"\\nGet the 90th percentile cutoff across all columns\")\n",
    "print(np.percentile(arr, q=90, axis=0))\n",
    "\n",
    "print(\"\\nFor all rows and all columns, find the median\")\n",
    "print(np.median(arr))"
   ]
  },
  {
   "cell_type": "markdown",
   "metadata": {
    "slideshow": {
     "slide_type": "subslide"
    }
   },
   "source": [
    "**Bonus `numpy` tip** (not related to code efficiency)\n",
    "- `numpy.save()` and `numpy.load()` will legitimately improve your overall quality of life."
   ]
  },
  {
   "cell_type": "markdown",
   "metadata": {
    "slideshow": {
     "slide_type": "subslide"
    }
   },
   "source": [
    "## Parallelization\n",
    "\n",
    "Is something you're doing $\\mathcal{O}(n)$? \n",
    "\n",
    "No problem! Just run it on $n$ computers!"
   ]
  },
  {
   "cell_type": "markdown",
   "metadata": {
    "slideshow": {
     "slide_type": "fragment"
    }
   },
   "source": [
    "There are a couple different types of parallelization:\n",
    "\n",
    "1. Distributed computing\n",
    "1. Local multi-processing\n",
    "1. Local threading\n"
   ]
  },
  {
   "cell_type": "markdown",
   "metadata": {
    "slideshow": {
     "slide_type": "subslide"
    }
   },
   "source": [
    "### Distributed Computing\n",
    "\n",
    "Sometimes you are fortunate enough to have access to a computing cluster.\n",
    "\n",
    "If this is your case, a strategy for running one code or job on a lot of data is to split up your data and run the code on small chunks of it in parallel, each on a separate computer in the cluster. Then when all is said and done, you aggregate the results and go on with your day.\n",
    "\n",
    "At UW-Madison, you can obtain access to the High-Performance Computing Cluster run from the Institute for Discovery, request an account on the HEP computing cluster, or gain access to a remote cluster your group may work with."
   ]
  },
  {
   "cell_type": "markdown",
   "metadata": {
    "slideshow": {
     "slide_type": "subslide"
    }
   },
   "source": [
    "### Local Multi-Processing\n",
    "\n",
    "Multi-processing is a way of doing this \"split-up, run-in-parallel, aggregate\" dance on your own computer.\n",
    "\n",
    "Modern laptops are built with multiple \"cores\" where computations are performed. Each core can only do one thing at a time, in a serialized fashion, and this is how most day-to-day operations on your laptop are executed. \n",
    "\n",
    "BUT.\n",
    "\n",
    "With neat modules you can distribute tasks to different cores on your computer and make things happen in parallel.\n",
    "\n",
    "Let's look at a simple `python` example."
   ]
  },
  {
   "cell_type": "code",
   "execution_count": 34,
   "metadata": {
    "slideshow": {
     "slide_type": "subslide"
    }
   },
   "outputs": [
    {
     "name": "stdout",
     "output_type": "stream",
     "text": [
      "Overwriting multiprocess_demo.py\n"
     ]
    }
   ],
   "source": [
    "%%file multiprocess_demo.py\n",
    "\n",
    "# Define the script you want to run with mulit-processing \n",
    "def worker(num):\n",
    "    \"\"\"process worker function\"\"\"\n",
    "    print('Worker:', num)\n",
    "    return"
   ]
  },
  {
   "cell_type": "code",
   "execution_count": 35,
   "metadata": {
    "slideshow": {
     "slide_type": "fragment"
    }
   },
   "outputs": [
    {
     "name": "stdout",
     "output_type": "stream",
     "text": [
      "Worker: 1\n",
      "Worker: 0\n",
      "Worker: 2\n",
      "Worker: 3\n",
      "Worker: 4\n"
     ]
    }
   ],
   "source": [
    "import multiprocessing\n",
    "from multiprocess_demo import worker\n",
    "\n",
    "# Trigger the parallelized jobs to start\n",
    "jobs = []\n",
    "for i in range(5):\n",
    "    p = multiprocessing.Process(target=worker, args=(i,))\n",
    "    jobs.append(p)\n",
    "    p.start()"
   ]
  },
  {
   "cell_type": "markdown",
   "metadata": {
    "slideshow": {
     "slide_type": "subslide"
    }
   },
   "source": [
    "### Local Threading\n",
    "\n",
    "Similar but _ever so slightly_ different from multi-processing is threading.\n",
    "\n",
    "You may have noticed that we created a standalone script to utilize the multi-processing library. But what if we have a small section within a larger script that we would like to parallelize?\n",
    "\n",
    "This smaller task is exactly what threading is meant to make possible.\n",
    "\n",
    "Let's look at an almost identical example."
   ]
  },
  {
   "cell_type": "code",
   "execution_count": 36,
   "metadata": {
    "slideshow": {
     "slide_type": "subslide"
    }
   },
   "outputs": [
    {
     "name": "stdout",
     "output_type": "stream",
     "text": [
      "Worker: 0\n",
      "Worker:Worker: 1\n",
      " 2\n",
      "Worker: 3\n",
      "Worker: 4\n"
     ]
    }
   ],
   "source": [
    "import threading\n",
    "\n",
    "# Define the script you want to run with threading\n",
    "def worker(num):\n",
    "    \"\"\"thread worker function\"\"\"\n",
    "    print('Worker:', num)\n",
    "    return\n",
    "\n",
    "# Trigger the parallelized jobs to start\n",
    "jobs = []\n",
    "for i in range(5):\n",
    "    p = threading.Thread(target=worker, args=(i,))\n",
    "    jobs.append(p)\n",
    "    p.start()"
   ]
  },
  {
   "cell_type": "markdown",
   "metadata": {
    "slideshow": {
     "slide_type": "subslide"
    }
   },
   "source": [
    "### Paralellization Summary\n",
    "\n",
    "There are a lot of minute differences between distributed computing, multi-processing, and threading, but all tasks work towards the same goal:\n",
    "\n",
    "- Run independent parts of a workflow in parallel instead of waiting on other parts to finish\n",
    "\n",
    "Overall, these types of approaches can take your from $\\mathcal{O}(n)$ to $\\mathcal{O}(1)$ and often times make it possible for you to do calculations you need in an amount of time less than the length of the average PhD."
   ]
  },
  {
   "cell_type": "markdown",
   "metadata": {
    "slideshow": {
     "slide_type": "subslide"
    }
   },
   "source": [
    "## Compilation\n",
    "\n",
    "You may have noticed by now that everything I've shown has been geared around speeding up `python` code.\n",
    "\n",
    "Why not talk about  `C++`, `Java`, `C`, `C#`, `Fortran`, or `Lisp`?"
   ]
  },
  {
   "cell_type": "markdown",
   "metadata": {
    "slideshow": {
     "slide_type": "fragment"
    }
   },
   "source": [
    "All these languages are \"compiled\" languages, and that aspect differentiates them from `python`.\n",
    "\n",
    "When code is compiled, your computer knows ahead of time exactly what it needs to do, so it is easier for the computer to put its head down and grind away.\n",
    "\n",
    "`Python` is an \"interpreted\" language, which means the computer is figuring out what it needs to do as it runs the program."
   ]
  },
  {
   "cell_type": "markdown",
   "metadata": {
    "slideshow": {
     "slide_type": "subslide"
    }
   },
   "source": [
    "Let's think about a `for` loop through the eyes of your `python` interpreter."
   ]
  },
  {
   "cell_type": "markdown",
   "metadata": {
    "slideshow": {
     "slide_type": "fragment"
    }
   },
   "source": [
    "```python\n",
    "for i in [1, 2, \"Cat\", 4.578, [\"a\", \"b\"], 7]:\n",
    "    \"\"\"\n",
    "    do stuff\n",
    "    \"\"\"\n",
    "```\n",
    "\n",
    "`Python` allows you to put any collection of objects together in a list. While this is sometimes convenient, it creates a need for the interpreter to figure out how to handle the current object in the iteration."
   ]
  },
  {
   "cell_type": "markdown",
   "metadata": {
    "slideshow": {
     "slide_type": "fragment"
    }
   },
   "source": [
    "This attribute makes `python` super slow compared to compiled languages."
   ]
  },
  {
   "cell_type": "markdown",
   "metadata": {
    "slideshow": {
     "slide_type": "subslide"
    }
   },
   "source": [
    "### Compiling Python Code\n",
    "\n",
    "Thankfully, there are ways to compile your python code to speed things up if you're unable to design your way out of using a `for` loop.\n",
    "\n",
    "We'll look at `numba` for doing this.\n",
    "\n",
    "Other methods and modules exist for this purpose, such as `Cython`, but I'll leave those for another day."
   ]
  },
  {
   "cell_type": "markdown",
   "metadata": {
    "slideshow": {
     "slide_type": "subslide"
    }
   },
   "source": [
    "### Just-In-Time Compiling with Python\n",
    "\n",
    "`numba` is a super awesome module for compiling `python` code on the fly.\n",
    "\n",
    "If you trigger `numba` on a `for` loop, the first time through the loop `numba` will compile the body of the loop. Then in subsequent iterations, the code will run at speeds comparable to compiled languages."
   ]
  },
  {
   "cell_type": "markdown",
   "metadata": {
    "slideshow": {
     "slide_type": "subslide"
    }
   },
   "source": [
    "Let's try a simple example of computing the length of the hypotenuse of a right triangle from the other side lengths."
   ]
  },
  {
   "cell_type": "code",
   "execution_count": 37,
   "metadata": {
    "slideshow": {
     "slide_type": "fragment"
    }
   },
   "outputs": [
    {
     "data": {
      "text/plain": [
       "5.0"
      ]
     },
     "execution_count": 37,
     "metadata": {},
     "output_type": "execute_result"
    }
   ],
   "source": [
    "def hypotenuse(x, y):\n",
    "    x = abs(x)\n",
    "    y = abs(y)\n",
    "    t = min(x, y)\n",
    "    x = max(x, y)\n",
    "    t = t / x\n",
    "    return x * math.sqrt(1+t*t)\n",
    "\n",
    "hypotenuse(3, 4)"
   ]
  },
  {
   "cell_type": "markdown",
   "metadata": {
    "slideshow": {
     "slide_type": "subslide"
    }
   },
   "source": [
    "Now let's `numba`-fy our `hypotenuse` function:"
   ]
  },
  {
   "cell_type": "code",
   "execution_count": 38,
   "metadata": {
    "slideshow": {
     "slide_type": "fragment"
    }
   },
   "outputs": [
    {
     "data": {
      "text/plain": [
       "5.0"
      ]
     },
     "execution_count": 38,
     "metadata": {},
     "output_type": "execute_result"
    }
   ],
   "source": [
    "from numba import jit\n",
    "\n",
    "numba_hypotenuse = jit(hypotenuse)\n",
    "\n",
    "numba_hypotenuse(3, 4)"
   ]
  },
  {
   "cell_type": "markdown",
   "metadata": {
    "slideshow": {
     "slide_type": "fragment"
    }
   },
   "source": [
    "If you want to be a fancy pants, you can also `numba`-fy a function using decorators like this:\n",
    "\n",
    "```python\n",
    "@jit\n",
    "def numba_hypotenuse(x, y):\n",
    "    x = abs(x)\n",
    "    y = abs(y)\n",
    "    t = min(x, y)\n",
    "    x = max(x, y)\n",
    "    t = t / x\n",
    "    return x * math.sqrt(1+t*t)\n",
    "```"
   ]
  },
  {
   "cell_type": "markdown",
   "metadata": {
    "slideshow": {
     "slide_type": "subslide"
    }
   },
   "source": [
    "So which was faster?? Maybe some of the tools we've used earlier can help us figure it out."
   ]
  },
  {
   "cell_type": "code",
   "execution_count": 39,
   "metadata": {
    "slideshow": {
     "slide_type": "fragment"
    }
   },
   "outputs": [
    {
     "name": "stdout",
     "output_type": "stream",
     "text": [
      "637 ns ± 21 ns per loop (mean ± std. dev. of 7 runs, 1000000 loops each)\n"
     ]
    }
   ],
   "source": [
    "%timeit hypotenuse(3, 4)"
   ]
  },
  {
   "cell_type": "code",
   "execution_count": 40,
   "metadata": {
    "slideshow": {
     "slide_type": "fragment"
    }
   },
   "outputs": [
    {
     "name": "stdout",
     "output_type": "stream",
     "text": [
      "149 ns ± 0.468 ns per loop (mean ± std. dev. of 7 runs, 10000000 loops each)\n"
     ]
    }
   ],
   "source": [
    "%timeit numba_hypotenuse(3, 4)"
   ]
  },
  {
   "cell_type": "markdown",
   "metadata": {
    "slideshow": {
     "slide_type": "subslide"
    }
   },
   "source": [
    "## Summary\n",
    "\n",
    "The three main ways to speed up your code are vectorization, parallelizarion, and compilation. \n",
    "\n",
    "**You should also utilize these three things in that order.**\n",
    "\n",
    "Vectorizing parts of your code is often just replacing a `for` loop with an array operation, and is a very easy change to make that will reduce the algorithmic complexity of your code.\n",
    "\n",
    "Parallelization is great, but often requires redesigning large sections of your code and there can be a steep learning curve with submitting jobs on a cluster\n",
    "\n",
    "Compiling works well in principle, but in practice `numba` can be finicky with the types of objects and the situations it work well with. It can also obfuscate the code.\n",
    "\n",
    "**Before you do any of this:** Profile your code."
   ]
  },
  {
   "cell_type": "markdown",
   "metadata": {
    "slideshow": {
     "slide_type": "slide"
    }
   },
   "source": [
    "# Overall Summary"
   ]
  },
  {
   "cell_type": "markdown",
   "metadata": {
    "slideshow": {
     "slide_type": "fragment"
    }
   },
   "source": [
    "To assess the efficiency of your code, you should think in terms of algorithmic complexity. \n",
    "- Ask yourself, \"How will the number of things my program has to do scale with the size of the data?\""
   ]
  },
  {
   "cell_type": "markdown",
   "metadata": {
    "slideshow": {
     "slide_type": "fragment"
    }
   },
   "source": [
    "Use profilers to diagnose parts of your code that might be bottlenecks.\n",
    "- In this talk we looked at `%time`, `%timeit`, `%prun`, `%lprun`, `%%heat`, `%memit`, and `%mprun`"
   ]
  },
  {
   "cell_type": "markdown",
   "metadata": {
    "slideshow": {
     "slide_type": "fragment"
    }
   },
   "source": [
    "Employ techniques like vectorization, parallelization, and compilation to speed things up\n",
    "- Vectorization: for reducing the algorithmic complexity\n",
    "- Parallelization: for fighting through algorithmic complexity\n",
    "- Compiliation: for saying \"complexity comshmlexity, I'm just gonna run my code fast\""
   ]
  },
  {
   "cell_type": "markdown",
   "metadata": {
    "slideshow": {
     "slide_type": "slide"
    }
   },
   "source": [
    "# Improving Code Efficiency\n",
    "\n",
    "Rob Morgan\n",
    "\n",
    "rmorgan10.github.io"
   ]
  }
 ],
 "metadata": {
  "celltoolbar": "Slideshow",
  "kernelspec": {
   "display_name": "Python 3",
   "language": "python",
   "name": "python3"
  },
  "language_info": {
   "codemirror_mode": {
    "name": "ipython",
    "version": 3
   },
   "file_extension": ".py",
   "mimetype": "text/x-python",
   "name": "python",
   "nbconvert_exporter": "python",
   "pygments_lexer": "ipython3",
   "version": "3.7.1"
  }
 },
 "nbformat": 4,
 "nbformat_minor": 2
}
